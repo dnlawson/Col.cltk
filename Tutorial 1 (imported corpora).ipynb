{
 "cells": [
  {
   "cell_type": "markdown",
   "metadata": {},
   "source": [
    "# Import corpus importer"
   ]
  },
  {
   "cell_type": "code",
   "execution_count": 1,
   "metadata": {},
   "outputs": [],
   "source": [
    "from cltk.corpus.utils.importer import CorpusImporter"
   ]
  },
  {
   "cell_type": "markdown",
   "metadata": {},
   "source": [
    "### Search contents of latin corpora"
   ]
  },
  {
   "cell_type": "code",
   "execution_count": 2,
   "metadata": {},
   "outputs": [
    {
     "data": {
      "text/plain": [
       "['latin_text_perseus',\n",
       " 'latin_treebank_perseus',\n",
       " 'latin_text_latin_library',\n",
       " 'phi5',\n",
       " 'phi7',\n",
       " 'latin_proper_names_cltk',\n",
       " 'latin_models_cltk',\n",
       " 'latin_pos_lemmata_cltk',\n",
       " 'latin_treebank_index_thomisticus',\n",
       " 'latin_lexica_perseus',\n",
       " 'latin_training_set_sentence_cltk',\n",
       " 'latin_word2vec_cltk',\n",
       " 'latin_text_antique_digiliblt',\n",
       " 'latin_text_corpus_grammaticorum_latinorum',\n",
       " 'latin_text_poeti_ditalia',\n",
       " 'latin_text_tesserae']"
      ]
     },
     "execution_count": 2,
     "metadata": {},
     "output_type": "execute_result"
    }
   ],
   "source": [
    "my_latin_downloader = CorpusImporter('latin')\n",
    "\n",
    "my_latin_downloader.list_corpora"
   ]
  },
  {
   "cell_type": "markdown",
   "metadata": {},
   "source": [
    "### Import latin corpora\n",
    "\n"
   ]
  },
  {
   "cell_type": "code",
   "execution_count": 32,
   "metadata": {
    "scrolled": true
   },
   "outputs": [],
   "source": [
    "my_latin_downloader.import_corpus('latin_text_perseus')"
   ]
  },
  {
   "cell_type": "code",
   "execution_count": 33,
   "metadata": {},
   "outputs": [],
   "source": [
    "my_latin_downloader.import_corpus('latin_treebank_perseus')"
   ]
  },
  {
   "cell_type": "code",
   "execution_count": 34,
   "metadata": {},
   "outputs": [],
   "source": [
    "my_latin_downloader.import_corpus('latin_lexica_perseus')"
   ]
  },
  {
   "cell_type": "code",
   "execution_count": 35,
   "metadata": {},
   "outputs": [],
   "source": [
    "my_latin_downloader.import_corpus('latin_text_latin_library')"
   ]
  },
  {
   "cell_type": "code",
   "execution_count": 36,
   "metadata": {},
   "outputs": [],
   "source": [
    "my_latin_downloader.import_corpus('latin_proper_names_cltk')"
   ]
  },
  {
   "cell_type": "code",
   "execution_count": 37,
   "metadata": {},
   "outputs": [],
   "source": [
    "my_latin_downloader.import_corpus('latin_models_cltk')"
   ]
  },
  {
   "cell_type": "code",
   "execution_count": 38,
   "metadata": {},
   "outputs": [],
   "source": [
    "my_latin_downloader.import_corpus('latin_pos_lemmata_cltk')"
   ]
  },
  {
   "cell_type": "code",
   "execution_count": 39,
   "metadata": {},
   "outputs": [],
   "source": [
    "my_latin_downloader.import_corpus('latin_treebank_index_thomisticus')"
   ]
  },
  {
   "cell_type": "code",
   "execution_count": 40,
   "metadata": {},
   "outputs": [],
   "source": [
    "my_latin_downloader.import_corpus('latin_training_set_sentence_cltk')"
   ]
  },
  {
   "cell_type": "code",
   "execution_count": 41,
   "metadata": {},
   "outputs": [],
   "source": [
    "my_latin_downloader.import_corpus('latin_word2vec_cltk')"
   ]
  },
  {
   "cell_type": "code",
   "execution_count": 42,
   "metadata": {},
   "outputs": [],
   "source": [
    "my_latin_downloader.import_corpus('latin_text_antique_digiliblt')"
   ]
  },
  {
   "cell_type": "code",
   "execution_count": 43,
   "metadata": {},
   "outputs": [],
   "source": [
    "my_latin_downloader.import_corpus('latin_text_corpus_grammaticorum_latinorum')"
   ]
  },
  {
   "cell_type": "code",
   "execution_count": 44,
   "metadata": {},
   "outputs": [],
   "source": [
    "my_latin_downloader.import_corpus('latin_text_poeti_ditalia')"
   ]
  },
  {
   "cell_type": "code",
   "execution_count": 45,
   "metadata": {
    "scrolled": true
   },
   "outputs": [],
   "source": [
    "my_latin_downloader.import_corpus('latin_text_tesserae')"
   ]
  },
  {
   "cell_type": "markdown",
   "metadata": {},
   "source": [
    "### If you have the Latin Packard Humanities texts (PHI-5 and PHI-7), you may download them from local files"
   ]
  },
  {
   "cell_type": "code",
   "execution_count": 4,
   "metadata": {},
   "outputs": [],
   "source": [
    "my_latin_downloader.import_corpus('phi7','~/Documents/Diogenes/PHI7')"
   ]
  },
  {
   "cell_type": "code",
   "execution_count": 5,
   "metadata": {
    "scrolled": false
   },
   "outputs": [
    {
     "ename": "PermissionError",
     "evalue": "[Errno 1] Operation not permitted: 'LAT0455.TXT'",
     "output_type": "error",
     "traceback": [
      "\u001b[0;31m---------------------------------------------------------------------------\u001b[0m",
      "\u001b[0;31mPermissionError\u001b[0m                           Traceback (most recent call last)",
      "\u001b[0;32m<ipython-input-5-879bedc86f02>\u001b[0m in \u001b[0;36m<module>\u001b[0;34m\u001b[0m\n\u001b[0;32m----> 1\u001b[0;31m \u001b[0mmy_latin_downloader\u001b[0m\u001b[0;34m.\u001b[0m\u001b[0mimport_corpus\u001b[0m\u001b[0;34m(\u001b[0m\u001b[0;34m'phi5'\u001b[0m\u001b[0;34m,\u001b[0m\u001b[0;34m'~/Documents/Diogenes/PHI5'\u001b[0m\u001b[0;34m)\u001b[0m\u001b[0;34m\u001b[0m\u001b[0;34m\u001b[0m\u001b[0m\n\u001b[0m",
      "\u001b[0;32m~/cltk/venv/lib/python3.7/site-packages/cltk/corpus/utils/importer.py\u001b[0m in \u001b[0;36mimport_corpus\u001b[0;34m(self, corpus_name, local_path, branch)\u001b[0m\n\u001b[1;32m    382\u001b[0m                 \u001b[0;31m# check for `originals/<corpus_name>`; if pres, delete\u001b[0m\u001b[0;34m\u001b[0m\u001b[0;34m\u001b[0m\u001b[0;34m\u001b[0m\u001b[0m\n\u001b[1;32m    383\u001b[0m                 \u001b[0;32mif\u001b[0m \u001b[0mos\u001b[0m\u001b[0;34m.\u001b[0m\u001b[0mpath\u001b[0m\u001b[0;34m.\u001b[0m\u001b[0misdir\u001b[0m\u001b[0;34m(\u001b[0m\u001b[0mtlg_originals_dir\u001b[0m\u001b[0;34m)\u001b[0m\u001b[0;34m:\u001b[0m\u001b[0;34m\u001b[0m\u001b[0;34m\u001b[0m\u001b[0m\n\u001b[0;32m--> 384\u001b[0;31m                     \u001b[0mshutil\u001b[0m\u001b[0;34m.\u001b[0m\u001b[0mrmtree\u001b[0m\u001b[0;34m(\u001b[0m\u001b[0mtlg_originals_dir\u001b[0m\u001b[0;34m)\u001b[0m\u001b[0;34m\u001b[0m\u001b[0;34m\u001b[0m\u001b[0m\n\u001b[0m\u001b[1;32m    385\u001b[0m                     \u001b[0mmsg\u001b[0m \u001b[0;34m=\u001b[0m \u001b[0;34m\"Removed directory at '{}'.\"\u001b[0m\u001b[0;34m.\u001b[0m\u001b[0mformat\u001b[0m\u001b[0;34m(\u001b[0m\u001b[0mtlg_originals_dir\u001b[0m\u001b[0;34m)\u001b[0m\u001b[0;34m\u001b[0m\u001b[0;34m\u001b[0m\u001b[0m\n\u001b[1;32m    386\u001b[0m                     \u001b[0mlogger\u001b[0m\u001b[0;34m.\u001b[0m\u001b[0minfo\u001b[0m\u001b[0;34m(\u001b[0m\u001b[0mmsg\u001b[0m\u001b[0;34m)\u001b[0m\u001b[0;34m\u001b[0m\u001b[0;34m\u001b[0m\u001b[0m\n",
      "\u001b[0;32m~/opt/anaconda3/lib/python3.7/shutil.py\u001b[0m in \u001b[0;36mrmtree\u001b[0;34m(path, ignore_errors, onerror)\u001b[0m\n\u001b[1;32m    492\u001b[0m         \u001b[0;32mtry\u001b[0m\u001b[0;34m:\u001b[0m\u001b[0;34m\u001b[0m\u001b[0;34m\u001b[0m\u001b[0m\n\u001b[1;32m    493\u001b[0m             \u001b[0;32mif\u001b[0m \u001b[0mos\u001b[0m\u001b[0;34m.\u001b[0m\u001b[0mpath\u001b[0m\u001b[0;34m.\u001b[0m\u001b[0msamestat\u001b[0m\u001b[0;34m(\u001b[0m\u001b[0morig_st\u001b[0m\u001b[0;34m,\u001b[0m \u001b[0mos\u001b[0m\u001b[0;34m.\u001b[0m\u001b[0mfstat\u001b[0m\u001b[0;34m(\u001b[0m\u001b[0mfd\u001b[0m\u001b[0;34m)\u001b[0m\u001b[0;34m)\u001b[0m\u001b[0;34m:\u001b[0m\u001b[0;34m\u001b[0m\u001b[0;34m\u001b[0m\u001b[0m\n\u001b[0;32m--> 494\u001b[0;31m                 \u001b[0m_rmtree_safe_fd\u001b[0m\u001b[0;34m(\u001b[0m\u001b[0mfd\u001b[0m\u001b[0;34m,\u001b[0m \u001b[0mpath\u001b[0m\u001b[0;34m,\u001b[0m \u001b[0monerror\u001b[0m\u001b[0;34m)\u001b[0m\u001b[0;34m\u001b[0m\u001b[0;34m\u001b[0m\u001b[0m\n\u001b[0m\u001b[1;32m    495\u001b[0m                 \u001b[0;32mtry\u001b[0m\u001b[0;34m:\u001b[0m\u001b[0;34m\u001b[0m\u001b[0;34m\u001b[0m\u001b[0m\n\u001b[1;32m    496\u001b[0m                     \u001b[0mos\u001b[0m\u001b[0;34m.\u001b[0m\u001b[0mrmdir\u001b[0m\u001b[0;34m(\u001b[0m\u001b[0mpath\u001b[0m\u001b[0;34m)\u001b[0m\u001b[0;34m\u001b[0m\u001b[0;34m\u001b[0m\u001b[0m\n",
      "\u001b[0;32m~/opt/anaconda3/lib/python3.7/shutil.py\u001b[0m in \u001b[0;36m_rmtree_safe_fd\u001b[0;34m(topfd, path, onerror)\u001b[0m\n\u001b[1;32m    450\u001b[0m                 \u001b[0mos\u001b[0m\u001b[0;34m.\u001b[0m\u001b[0munlink\u001b[0m\u001b[0;34m(\u001b[0m\u001b[0mentry\u001b[0m\u001b[0;34m.\u001b[0m\u001b[0mname\u001b[0m\u001b[0;34m,\u001b[0m \u001b[0mdir_fd\u001b[0m\u001b[0;34m=\u001b[0m\u001b[0mtopfd\u001b[0m\u001b[0;34m)\u001b[0m\u001b[0;34m\u001b[0m\u001b[0;34m\u001b[0m\u001b[0m\n\u001b[1;32m    451\u001b[0m             \u001b[0;32mexcept\u001b[0m \u001b[0mOSError\u001b[0m\u001b[0;34m:\u001b[0m\u001b[0;34m\u001b[0m\u001b[0;34m\u001b[0m\u001b[0m\n\u001b[0;32m--> 452\u001b[0;31m                 \u001b[0monerror\u001b[0m\u001b[0;34m(\u001b[0m\u001b[0mos\u001b[0m\u001b[0;34m.\u001b[0m\u001b[0munlink\u001b[0m\u001b[0;34m,\u001b[0m \u001b[0mfullname\u001b[0m\u001b[0;34m,\u001b[0m \u001b[0msys\u001b[0m\u001b[0;34m.\u001b[0m\u001b[0mexc_info\u001b[0m\u001b[0;34m(\u001b[0m\u001b[0;34m)\u001b[0m\u001b[0;34m)\u001b[0m\u001b[0;34m\u001b[0m\u001b[0;34m\u001b[0m\u001b[0m\n\u001b[0m\u001b[1;32m    453\u001b[0m \u001b[0;34m\u001b[0m\u001b[0m\n\u001b[1;32m    454\u001b[0m _use_fd_functions = ({os.open, os.stat, os.unlink, os.rmdir} <=\n",
      "\u001b[0;32m~/opt/anaconda3/lib/python3.7/shutil.py\u001b[0m in \u001b[0;36m_rmtree_safe_fd\u001b[0;34m(topfd, path, onerror)\u001b[0m\n\u001b[1;32m    448\u001b[0m         \u001b[0;32melse\u001b[0m\u001b[0;34m:\u001b[0m\u001b[0;34m\u001b[0m\u001b[0;34m\u001b[0m\u001b[0m\n\u001b[1;32m    449\u001b[0m             \u001b[0;32mtry\u001b[0m\u001b[0;34m:\u001b[0m\u001b[0;34m\u001b[0m\u001b[0;34m\u001b[0m\u001b[0m\n\u001b[0;32m--> 450\u001b[0;31m                 \u001b[0mos\u001b[0m\u001b[0;34m.\u001b[0m\u001b[0munlink\u001b[0m\u001b[0;34m(\u001b[0m\u001b[0mentry\u001b[0m\u001b[0;34m.\u001b[0m\u001b[0mname\u001b[0m\u001b[0;34m,\u001b[0m \u001b[0mdir_fd\u001b[0m\u001b[0;34m=\u001b[0m\u001b[0mtopfd\u001b[0m\u001b[0;34m)\u001b[0m\u001b[0;34m\u001b[0m\u001b[0;34m\u001b[0m\u001b[0m\n\u001b[0m\u001b[1;32m    451\u001b[0m             \u001b[0;32mexcept\u001b[0m \u001b[0mOSError\u001b[0m\u001b[0;34m:\u001b[0m\u001b[0;34m\u001b[0m\u001b[0;34m\u001b[0m\u001b[0m\n\u001b[1;32m    452\u001b[0m                 \u001b[0monerror\u001b[0m\u001b[0;34m(\u001b[0m\u001b[0mos\u001b[0m\u001b[0;34m.\u001b[0m\u001b[0munlink\u001b[0m\u001b[0;34m,\u001b[0m \u001b[0mfullname\u001b[0m\u001b[0;34m,\u001b[0m \u001b[0msys\u001b[0m\u001b[0;34m.\u001b[0m\u001b[0mexc_info\u001b[0m\u001b[0;34m(\u001b[0m\u001b[0;34m)\u001b[0m\u001b[0;34m)\u001b[0m\u001b[0;34m\u001b[0m\u001b[0;34m\u001b[0m\u001b[0m\n",
      "\u001b[0;31mPermissionError\u001b[0m: [Errno 1] Operation not permitted: 'LAT0455.TXT'"
     ]
    }
   ],
   "source": [
    "my_latin_downloader.import_corpus('phi5','~/Documents/Diogenes/PHI5')"
   ]
  },
  {
   "cell_type": "markdown",
   "metadata": {},
   "source": [
    "### List the Latin corpora which have been imported"
   ]
  },
  {
   "cell_type": "code",
   "execution_count": 3,
   "metadata": {},
   "outputs": [
    {
     "name": "stdout",
     "output_type": "stream",
     "text": [
      "total 0\r\n",
      "drwxr-xr-x    5 rjbarnes  staff    160 Dec 12 10:29 \u001b[34mlatin_text_antique_digiliblt\u001b[m\u001b[m\r\n",
      "drwxr-xr-x   46 rjbarnes  staff   1472 Dec 12 10:29 \u001b[34mlatin_text_corpus_grammaticorum_latinorum\u001b[m\u001b[m\r\n",
      "drwxr-xr-x  623 rjbarnes  staff  19936 Dec 11 17:10 \u001b[34mlatin_text_latin_library\u001b[m\u001b[m\r\n",
      "drwxr-xr-x   55 rjbarnes  staff   1760 Dec 11 17:33 \u001b[34mlatin_text_perseus\u001b[m\u001b[m\r\n",
      "drwxr-xr-x   20 rjbarnes  staff    640 Dec 12 10:28 \u001b[34mlatin_text_poeti_ditalia\u001b[m\u001b[m\r\n",
      "drwxr-xr-x    8 rjbarnes  staff    256 Dec 12 10:27 \u001b[34mlatin_text_tesserae\u001b[m\u001b[m\r\n",
      "drwxr-xr-x    3 rjbarnes  staff     96 Jan 18 17:50 \u001b[34mphi7\u001b[m\u001b[m\r\n"
     ]
    }
   ],
   "source": [
    "!ls -l ~/cltk_data/latin/text/"
   ]
  },
  {
   "cell_type": "markdown",
   "metadata": {},
   "source": [
    "### List Greek Corpora in the cltk"
   ]
  },
  {
   "cell_type": "code",
   "execution_count": 6,
   "metadata": {},
   "outputs": [
    {
     "data": {
      "text/plain": [
       "['greek_software_tlgu',\n",
       " 'greek_text_perseus',\n",
       " 'phi7',\n",
       " 'tlg',\n",
       " 'greek_proper_names_cltk',\n",
       " 'greek_models_cltk',\n",
       " 'greek_treebank_perseus',\n",
       " 'greek_treebank_gorman',\n",
       " 'greek_lexica_perseus',\n",
       " 'greek_training_set_sentence_cltk',\n",
       " 'greek_word2vec_cltk',\n",
       " 'greek_text_lacus_curtius',\n",
       " 'greek_text_first1kgreek',\n",
       " 'greek_text_tesserae']"
      ]
     },
     "execution_count": 6,
     "metadata": {},
     "output_type": "execute_result"
    }
   ],
   "source": [
    "my_greek_downloader = CorpusImporter('greek')\n",
    "my_greek_downloader.list_corpora"
   ]
  },
  {
   "cell_type": "markdown",
   "metadata": {},
   "source": [
    "### Import Greek Corpora"
   ]
  },
  {
   "cell_type": "code",
   "execution_count": 50,
   "metadata": {},
   "outputs": [],
   "source": [
    "my_greek_downloader.import_corpus('greek_software_tlgu')"
   ]
  },
  {
   "cell_type": "code",
   "execution_count": 51,
   "metadata": {
    "scrolled": true
   },
   "outputs": [],
   "source": [
    "my_greek_downloader.import_corpus('greek_text_perseus')"
   ]
  },
  {
   "cell_type": "code",
   "execution_count": 52,
   "metadata": {},
   "outputs": [],
   "source": [
    "my_greek_downloader.import_corpus('greek_proper_names_cltk')"
   ]
  },
  {
   "cell_type": "code",
   "execution_count": 53,
   "metadata": {},
   "outputs": [],
   "source": [
    "my_greek_downloader.import_corpus('greek_models_cltk')"
   ]
  },
  {
   "cell_type": "code",
   "execution_count": 54,
   "metadata": {},
   "outputs": [],
   "source": [
    "my_greek_downloader.import_corpus('greek_treebank_perseus')"
   ]
  },
  {
   "cell_type": "code",
   "execution_count": 55,
   "metadata": {},
   "outputs": [],
   "source": [
    "my_greek_downloader.import_corpus('greek_treebank_gorman')"
   ]
  },
  {
   "cell_type": "code",
   "execution_count": 56,
   "metadata": {},
   "outputs": [],
   "source": [
    "my_greek_downloader.import_corpus('greek_lexica_perseus')"
   ]
  },
  {
   "cell_type": "code",
   "execution_count": 57,
   "metadata": {},
   "outputs": [],
   "source": [
    "my_greek_downloader.import_corpus('greek_training_set_sentence_cltk')"
   ]
  },
  {
   "cell_type": "code",
   "execution_count": 58,
   "metadata": {},
   "outputs": [],
   "source": [
    "my_greek_downloader.import_corpus('greek_word2vec_cltk')"
   ]
  },
  {
   "cell_type": "code",
   "execution_count": 59,
   "metadata": {},
   "outputs": [],
   "source": [
    "my_greek_downloader.import_corpus('greek_text_lacus_curtius')"
   ]
  },
  {
   "cell_type": "code",
   "execution_count": 62,
   "metadata": {},
   "outputs": [],
   "source": [
    "my_greek_downloader.import_corpus('greek_text_tesserae')"
   ]
  },
  {
   "cell_type": "markdown",
   "metadata": {},
   "source": [
    "### if you want to check that you have all of first1kgreek..."
   ]
  },
  {
   "cell_type": "code",
   "execution_count": 60,
   "metadata": {},
   "outputs": [],
   "source": [
    "my_greek_downloader.import_corpus('greek_text_first1kgreek')"
   ]
  },
  {
   "cell_type": "code",
   "execution_count": 7,
   "metadata": {},
   "outputs": [
    {
     "name": "stdout",
     "output_type": "stream",
     "text": [
      "total 4320\r\n",
      "-rwxr-xr-x    1 rjbarnes  staff  1955024 Dec 11 17:14 \u001b[31m#gelasius-kg.xml#\u001b[m\u001b[m\r\n",
      "-rw-r--r--    1 rjbarnes  staff   126919 Dec 11 17:14 Committing Issues using GitHub.docx\r\n",
      "-rwxr-xr-x    1 rjbarnes  staff    19777 Dec 11 17:14 \u001b[31mGreek-works.txt\u001b[m\u001b[m\r\n",
      "-rw-r--r--    1 rjbarnes  staff     1658 Dec 11 17:14 README.md\r\n",
      "-rwxr-xr-x    1 rjbarnes  staff     1889 Dec 11 17:14 \u001b[31mcselstats.pl\u001b[m\u001b[m\r\n",
      "drwxr-xr-x  186 rjbarnes  staff     5952 Dec 11 17:14 \u001b[34mdata\u001b[m\u001b[m\r\n",
      "-rwxr-xr-x    1 rjbarnes  staff     2414 Dec 11 17:14 \u001b[31mgreek-justwork.txt\u001b[m\u001b[m\r\n",
      "-rwxr-xr-x    1 rjbarnes  staff     3249 Dec 11 17:14 \u001b[31mgreek.txt\u001b[m\u001b[m\r\n",
      "-rw-r--r--    1 rjbarnes  staff    19125 Dec 11 17:14 license.md\r\n",
      "-rw-r--r--    1 rjbarnes  staff    58346 Dec 11 17:14 new_edition_metadata.csv\r\n",
      "-rw-r--r--    1 rjbarnes  staff      697 Dec 11 17:14 pages.sh\r\n",
      "-rwxr-xr-x    1 rjbarnes  staff     1901 Dec 11 17:14 \u001b[31mpnumber.xsl\u001b[m\u001b[m\r\n",
      "drwxr-xr-x    4 rjbarnes  staff      128 Dec 11 17:14 \u001b[34msave\u001b[m\u001b[m\r\n",
      "drwxr-xr-x   49 rjbarnes  staff     1568 Dec 11 17:14 \u001b[34msplit\u001b[m\u001b[m\r\n",
      "drwxr-xr-x   87 rjbarnes  staff     2784 Dec 11 17:14 \u001b[34mvolume_xml\u001b[m\u001b[m\r\n"
     ]
    }
   ],
   "source": [
    "!ls -l ~/cltk_data/greek/text/greek_text_first1kgreek/"
   ]
  },
  {
   "cell_type": "markdown",
   "metadata": {},
   "source": [
    "### If you have them, you may download Packard Humanities Greek texts and TLG locally "
   ]
  },
  {
   "cell_type": "code",
   "execution_count": 64,
   "metadata": {},
   "outputs": [],
   "source": [
    "my_greek_downloader.import_corpus('phi7','~/Documents/Diogenes/PHI7/')"
   ]
  },
  {
   "cell_type": "code",
   "execution_count": 65,
   "metadata": {},
   "outputs": [],
   "source": [
    "my_greek_downloader.import_corpus('tlg','~/Documents/Diogenes/TLG_E/')"
   ]
  },
  {
   "cell_type": "markdown",
   "metadata": {},
   "source": [
    "### List Greek corpora which have been downloaded"
   ]
  },
  {
   "cell_type": "code",
   "execution_count": 1,
   "metadata": {},
   "outputs": [
    {
     "name": "stdout",
     "output_type": "stream",
     "text": [
      "total 0\r\n",
      "drwxr-xr-x   21 rjbarnes  staff    672 Dec 11 17:14 \u001b[34mgreek_text_first1kgreek\u001b[m\u001b[m\r\n",
      "drwxr-xr-x  976 rjbarnes  staff  31232 Jan 18 17:37 \u001b[34mgreek_text_first1kgreek_plaintext\u001b[m\u001b[m\r\n",
      "drwxr-xr-x    7 rjbarnes  staff    224 Dec 11 17:12 \u001b[34mgreek_text_lacus_curtius\u001b[m\u001b[m\r\n",
      "drwxr-xr-x   70 rjbarnes  staff   2240 Jan  8 14:46 \u001b[34mgreek_text_perseus\u001b[m\u001b[m\r\n",
      "drwxr-xr-x    8 rjbarnes  staff    256 Dec 12 10:34 \u001b[34mgreek_text_tesserae\u001b[m\u001b[m\r\n",
      "drwxr-xr-x    3 rjbarnes  staff     96 Jan 18 17:50 \u001b[34mphi7\u001b[m\u001b[m\r\n",
      "drwxr-xr-x    4 rjbarnes  staff    128 Jan 18 17:52 \u001b[34mtlg\u001b[m\u001b[m\r\n"
     ]
    }
   ],
   "source": [
    "!ls -l ~/cltk_data/greek/text/"
   ]
  },
  {
   "cell_type": "markdown",
   "metadata": {},
   "source": [
    "### List the local Greek and Latin Corpora which have been downloaded from the cltk"
   ]
  },
  {
   "cell_type": "code",
   "execution_count": 2,
   "metadata": {},
   "outputs": [
    {
     "name": "stdout",
     "output_type": "stream",
     "text": [
      "total 0\r\n",
      "drwxr-xr-x   746 rjbarnes  staff   23872 Dec 12 09:57 \u001b[34mphi5\u001b[m\u001b[m\r\n",
      "drwxr-xr-x   527 rjbarnes  staff   16864 Dec 12 09:57 \u001b[34mphi7\u001b[m\u001b[m\r\n",
      "drwxr-xr-x  3692 rjbarnes  staff  118144 Dec 12 09:58 \u001b[34mtlg\u001b[m\u001b[m\r\n"
     ]
    }
   ],
   "source": [
    "!ls -l ~/cltk_data/originals/"
   ]
  },
  {
   "cell_type": "markdown",
   "metadata": {},
   "source": [
    "### Convert TEI XML files to plaintext\n",
    "- first pip install bs4"
   ]
  },
  {
   "cell_type": "code",
   "execution_count": 12,
   "metadata": {},
   "outputs": [],
   "source": [
    "from cltk.corpus.greek.tei import onekgreek_tei_xml_to_text"
   ]
  },
  {
   "cell_type": "code",
   "execution_count": 13,
   "metadata": {},
   "outputs": [],
   "source": [
    "onekgreek_tei_xml_to_text()"
   ]
  },
  {
   "cell_type": "code",
   "execution_count": 14,
   "metadata": {},
   "outputs": [
    {
     "name": "stdout",
     "output_type": "stream",
     "text": [
      "     975\r\n"
     ]
    }
   ],
   "source": [
    "ls -l ~/cltk_data/greek/text/greek_text_first1kgreek_plaintext/ | wc -l"
   ]
  },
  {
   "cell_type": "markdown",
   "metadata": {},
   "source": [
    "### TLG_U _______ *STILL HAVING TROUBLE*"
   ]
  },
  {
   "cell_type": "code",
   "execution_count": 13,
   "metadata": {},
   "outputs": [],
   "source": [
    "from cltk.corpus.greek.tlgu import TLGU"
   ]
  },
  {
   "cell_type": "code",
   "execution_count": 14,
   "metadata": {},
   "outputs": [
    {
     "name": "stdout",
     "output_type": "stream",
     "text": [
      "Do you want to install TLGU?\n",
      "To continue, press Return. To exit, Control-C.\n",
      "\n",
      "Going to run command: cd /Users/rjbarnes/cltk_data/greek/software/greek_software_tlgu && make install\n",
      "Could not install without root access. Do you want to install TLGU with sudo?\n",
      "Going to run command: cd /Users/rjbarnes/cltk_data/greek/software/greek_software_tlgu && sudo make install\n",
      "To continue, press Return. To exit, Control-C.\n",
      "\n"
     ]
    }
   ],
   "source": [
    " t = TLGU()"
   ]
  },
  {
   "cell_type": "code",
   "execution_count": 15,
   "metadata": {},
   "outputs": [],
   "source": [
    "t.convert_corpus(corpus='tlg')"
   ]
  },
  {
   "cell_type": "code",
   "execution_count": 15,
   "metadata": {},
   "outputs": [],
   "source": [
    "t.convert_corpus(corpus='phi7')"
   ]
  },
  {
   "cell_type": "code",
   "execution_count": 16,
   "metadata": {},
   "outputs": [],
   "source": [
    "t.convert_corpus(corpus='phi7', latin=True)"
   ]
  },
  {
   "cell_type": "code",
   "execution_count": 17,
   "metadata": {},
   "outputs": [],
   "source": [
    "t.divide_works('tlg')"
   ]
  },
  {
   "cell_type": "markdown",
   "metadata": {},
   "source": [
    "## Importing corpus readers"
   ]
  },
  {
   "cell_type": "markdown",
   "metadata": {},
   "source": [
    "First import the corpus reader module"
   ]
  },
  {
   "cell_type": "code",
   "execution_count": 17,
   "metadata": {},
   "outputs": [],
   "source": [
    "from cltk.corpus.readers import get_corpus_reader"
   ]
  },
  {
   "cell_type": "markdown",
   "metadata": {},
   "source": [
    "Read a particular corpus"
   ]
  },
  {
   "cell_type": "code",
   "execution_count": 18,
   "metadata": {},
   "outputs": [],
   "source": [
    "latin_corpus = get_corpus_reader(corpus_name = 'latin_text_latin_library', language = 'latin')"
   ]
  },
  {
   "cell_type": "markdown",
   "metadata": {},
   "source": [
    "at this point you can read the number of documents (docs), paragraphs (paras), sentences (sents), and words (words) are in the corpus"
   ]
  },
  {
   "cell_type": "code",
   "execution_count": 21,
   "metadata": {},
   "outputs": [
    {
     "data": {
      "text/plain": [
       "2141"
      ]
     },
     "execution_count": 21,
     "metadata": {},
     "output_type": "execute_result"
    }
   ],
   "source": [
    "len(list(latin_corpus.docs()))"
   ]
  },
  {
   "cell_type": "code",
   "execution_count": null,
   "metadata": {},
   "outputs": [],
   "source": [
    "len(list(latin_corpus.paras()))"
   ]
  },
  {
   "cell_type": "code",
   "execution_count": null,
   "metadata": {},
   "outputs": [],
   "source": [
    "len(list(latin_corpus.sents()))"
   ]
  },
  {
   "cell_type": "code",
   "execution_count": null,
   "metadata": {},
   "outputs": [],
   "source": [
    "len(list(latin_corpus.words()))"
   ]
  },
  {
   "cell_type": "markdown",
   "metadata": {},
   "source": [
    "Crucially, you will now be able to provide metadata for corpus filtration "
   ]
  },
  {
   "cell_type": "markdown",
   "metadata": {},
   "source": [
    "including the **timeperiod**"
   ]
  },
  {
   "cell_type": "code",
   "execution_count": 23,
   "metadata": {},
   "outputs": [],
   "source": [
    "from cltk.corpus.latin.latin_library_corpus_types import corpus_directories_by_type"
   ]
  },
  {
   "cell_type": "code",
   "execution_count": 29,
   "metadata": {},
   "outputs": [
    {
     "data": {
      "text/plain": [
       "['republican',\n",
       " 'augustan',\n",
       " 'early_silver',\n",
       " 'late_silver',\n",
       " 'old',\n",
       " 'christian',\n",
       " 'medieval',\n",
       " 'renaissance',\n",
       " 'neo_latin',\n",
       " 'misc',\n",
       " 'early']"
      ]
     },
     "execution_count": 29,
     "metadata": {},
     "output_type": "execute_result"
    }
   ],
   "source": [
    "list(corpus_directories_by_type.keys())"
   ]
  },
  {
   "cell_type": "markdown",
   "metadata": {},
   "source": [
    "...the **author**"
   ]
  },
  {
   "cell_type": "code",
   "execution_count": 25,
   "metadata": {},
   "outputs": [],
   "source": [
    "from cltk.corpus.latin.latin_library_corpus_types import corpus_texts_by_type"
   ]
  },
  {
   "cell_type": "code",
   "execution_count": 28,
   "metadata": {},
   "outputs": [
    {
     "data": {
      "text/plain": [
       "[['./caesar', './lucretius', './nepos', './cicero'],\n",
       " ['./livy', './ovid', './horace', './vergil', './hyginus'],\n",
       " ['./martial',\n",
       "  './juvenal',\n",
       "  './tacitus',\n",
       "  './lucan',\n",
       "  './quintilian',\n",
       "  './sen',\n",
       "  './statius',\n",
       "  './silius',\n",
       "  './columella'],\n",
       " ['./suetonius',\n",
       "  './gellius',\n",
       "  './apuleius',\n",
       "  './justin',\n",
       "  './apicius',\n",
       "  './fulgentius',\n",
       "  './orosius'],\n",
       " ['./plautus'],\n",
       " ['./ambrose',\n",
       "  './abelard',\n",
       "  './alcuin',\n",
       "  './augustine',\n",
       "  './bede',\n",
       "  './bible',\n",
       "  './cassiodorus',\n",
       "  './commodianus',\n",
       "  './gregorytours',\n",
       "  './hugo',\n",
       "  './isidore',\n",
       "  './jerome',\n",
       "  './prudentius',\n",
       "  './tertullian',\n",
       "  './kempis',\n",
       "  './leothegreat'],\n",
       " ['./boethiusdacia', './dante'],\n",
       " [],\n",
       " ['./addison',\n",
       "  './bacon',\n",
       "  './bultelius',\n",
       "  './descartes',\n",
       "  './erasmus',\n",
       "  './galileo',\n",
       "  './kepler',\n",
       "  './may',\n",
       "  './melanchthon',\n",
       "  './xylander',\n",
       "  './campion'],\n",
       " ['./alanus',\n",
       "  './albertanus',\n",
       "  './albertofaix',\n",
       "  './aquinas',\n",
       "  './ammianus',\n",
       "  './arnobius',\n",
       "  './capellanus',\n",
       "  './cato',\n",
       "  './claudian',\n",
       "  './curtius',\n",
       "  './eutropius',\n",
       "  './frontinus',\n",
       "  './gestafrancorum',\n",
       "  './justinian',\n",
       "  './lactantius',\n",
       "  './martinbraga',\n",
       "  './mirandola',\n",
       "  './ottofreising',\n",
       "  './pauldeacon',\n",
       "  './sha',\n",
       "  './theodosius',\n",
       "  './voragine',\n",
       "  './walter',\n",
       "  './williamtyre'],\n",
       " []]"
      ]
     },
     "execution_count": 28,
     "metadata": {},
     "output_type": "execute_result"
    }
   ],
   "source": [
    "list(corpus_directories_by_type.values())"
   ]
  },
  {
   "cell_type": "markdown",
   "metadata": {},
   "source": [
    "...and the **text**"
   ]
  },
  {
   "cell_type": "code",
   "execution_count": 27,
   "metadata": {},
   "outputs": [
    {
     "data": {
      "text/plain": [
       "[['sall.1.txt',\n",
       "  'sall.2.txt',\n",
       "  'sall.cotta.txt',\n",
       "  'sall.ep1.txt',\n",
       "  'sall.ep2.txt',\n",
       "  'sall.frag.txt',\n",
       "  'sall.invectiva.txt',\n",
       "  'sall.lep.txt',\n",
       "  'sall.macer.txt',\n",
       "  'sall.mithr.txt',\n",
       "  'sall.phil.txt',\n",
       "  'sall.pomp.txt',\n",
       "  'varro.frag.txt',\n",
       "  'varro.ll10.txt',\n",
       "  'varro.ll5.txt',\n",
       "  'varro.ll6.txt',\n",
       "  'varro.ll7.txt',\n",
       "  'varro.ll8.txt',\n",
       "  'varro.ll9.txt',\n",
       "  'varro.rr1.txt',\n",
       "  'varro.rr2.txt',\n",
       "  'varro.rr3.txt',\n",
       "  'sulpicia.txt'],\n",
       " ['resgestae.txt',\n",
       "  'resgestae1.txt',\n",
       "  'manilius1.txt',\n",
       "  'manilius2.txt',\n",
       "  'manilius3.txt',\n",
       "  'manilius4.txt',\n",
       "  'manilius5.txt',\n",
       "  'catullus.txt',\n",
       "  'vitruvius1.txt',\n",
       "  'vitruvius10.txt',\n",
       "  'vitruvius2.txt',\n",
       "  'vitruvius3.txt',\n",
       "  'vitruvius4.txt',\n",
       "  'vitruvius5.txt',\n",
       "  'vitruvius6.txt',\n",
       "  'vitruvius7.txt',\n",
       "  'vitruvius8.txt',\n",
       "  'vitruvius9.txt',\n",
       "  'propertius1.txt',\n",
       "  'tibullus1.txt',\n",
       "  'tibullus2.txt',\n",
       "  'tibullus3.txt'],\n",
       " ['pliny.ep1.txt',\n",
       "  'pliny.ep10.txt',\n",
       "  'pliny.ep2.txt',\n",
       "  'pliny.ep3.txt',\n",
       "  'pliny.ep4.txt',\n",
       "  'pliny.ep5.txt',\n",
       "  'pliny.ep6.txt',\n",
       "  'pliny.ep7.txt',\n",
       "  'pliny.ep8.txt',\n",
       "  'pliny.ep9.txt',\n",
       "  'pliny.nh1.txt',\n",
       "  'pliny.nh2.txt',\n",
       "  'pliny.nh3.txt',\n",
       "  'pliny.nh4.txt',\n",
       "  'pliny.nh5.txt',\n",
       "  'pliny.nhpr.txt',\n",
       "  'pliny.panegyricus.txt',\n",
       "  'petronius1.txt',\n",
       "  'petroniusfrag.txt',\n",
       "  'persius.txt',\n",
       "  'phaedr1.txt',\n",
       "  'phaedr2.txt',\n",
       "  'phaedr3.txt',\n",
       "  'phaedr4.txt',\n",
       "  'phaedr5.txt',\n",
       "  'phaedrapp.txt',\n",
       "  'seneca.contr1.txt',\n",
       "  'seneca.contr10.txt',\n",
       "  'seneca.contr2.txt',\n",
       "  'seneca.contr3.txt',\n",
       "  'seneca.contr4.txt',\n",
       "  'seneca.contr5.txt',\n",
       "  'seneca.contr6.txt',\n",
       "  'seneca.contr7.txt',\n",
       "  'seneca.contr8.txt',\n",
       "  'seneca.contr9.txt',\n",
       "  'seneca.fragmenta.txt',\n",
       "  'seneca.suasoriae.txt',\n",
       "  'valeriusflaccus1.txt',\n",
       "  'valeriusflaccus2.txt',\n",
       "  'valeriusflaccus3.txt',\n",
       "  'valeriusflaccus4.txt',\n",
       "  'valeriusflaccus5.txt',\n",
       "  'valeriusflaccus6.txt',\n",
       "  'valeriusflaccus7.txt',\n",
       "  'valeriusflaccus8.txt',\n",
       "  'valmax1.txt',\n",
       "  'valmax2.txt',\n",
       "  'valmax3.txt',\n",
       "  'valmax4.txt',\n",
       "  'valmax5.txt',\n",
       "  'valmax6.txt',\n",
       "  'valmax7.txt',\n",
       "  'valmax8.txt',\n",
       "  'valmax9.txt',\n",
       "  'vell1.txt',\n",
       "  'vell2.txt'],\n",
       " [],\n",
       " ['ter.adel.txt',\n",
       "  'ter.andria.txt',\n",
       "  'ter.eunuchus.txt',\n",
       "  'ter.heauton.txt',\n",
       "  'ter.hecyra.txt',\n",
       "  'ter.phormio.txt',\n",
       "  'andronicus.txt',\n",
       "  'enn.txt'],\n",
       " ['12tables.txt'],\n",
       " ['anselmepistula.txt', 'anselmproslogion.txt', 'carm.bur.txt'],\n",
       " ['anon.martyrio.txt',\n",
       "  'benedict.txt',\n",
       "  'berengar.txt',\n",
       "  'bernardclairvaux.txt',\n",
       "  'bernardcluny.txt',\n",
       "  'bonaventura.itinerarium.txt',\n",
       "  'creeds.txt',\n",
       "  'decretum.txt',\n",
       "  'diesirae.txt',\n",
       "  'egeria.txt',\n",
       "  'ennodius.txt',\n",
       "  'eucherius.txt',\n",
       "  'eugippius.txt',\n",
       "  'greg.txt',\n",
       "  'gregory.txt',\n",
       "  'gregory7.txt',\n",
       "  'hydatius.txt',\n",
       "  'hymni.txt',\n",
       "  'innocent.txt',\n",
       "  'hydatius.txt',\n",
       "  'junillus.txt',\n",
       "  'lactantius.txt',\n",
       "  'liberpontificalis.txt',\n",
       "  'macarius.txt',\n",
       "  'macarius1.txt',\n",
       "  'novatian.txt',\n",
       "  'papal.txt',\n",
       "  'paulinus.poemata.txt',\n",
       "  'perp.txt',\n",
       "  'professio.txt',\n",
       "  'prosperus.txt',\n",
       "  'regula.txt',\n",
       "  'sedulius.txt',\n",
       "  'sulpiciusseverus.txt',\n",
       "  'vorag.txt'],\n",
       " ['petrarch.ep1.txt', 'petrarch.numa.txt', 'petrarch.rom.txt'],\n",
       " ['spinoza.ethica1.txt',\n",
       "  'spinoza.ethica2.txt',\n",
       "  'spinoza.ethica3.txt',\n",
       "  'spinoza.ethica4.txt',\n",
       "  'spinoza.ethica5.txt'],\n",
       " []]"
      ]
     },
     "execution_count": 27,
     "metadata": {},
     "output_type": "execute_result"
    }
   ],
   "source": [
    "list(corpus_texts_by_type.values())"
   ]
  },
  {
   "cell_type": "markdown",
   "metadata": {},
   "source": [
    "If we want to see how many sentences are in Persius's Satires"
   ]
  },
  {
   "cell_type": "code",
   "execution_count": 47,
   "metadata": {},
   "outputs": [
    {
     "data": {
      "text/plain": [
       "331"
      ]
     },
     "execution_count": 47,
     "metadata": {},
     "output_type": "execute_result"
    }
   ],
   "source": [
    "len(list(latin_corpus.sents('persius.txt')))"
   ]
  },
  {
   "cell_type": "raw",
   "metadata": {},
   "source": []
  }
 ],
 "metadata": {
  "kernelspec": {
   "display_name": "Python 3",
   "language": "python",
   "name": "python3"
  },
  "language_info": {
   "codemirror_mode": {
    "name": "ipython",
    "version": 3
   },
   "file_extension": ".py",
   "mimetype": "text/x-python",
   "name": "python",
   "nbconvert_exporter": "python",
   "pygments_lexer": "ipython3",
   "version": "3.7.4"
  }
 },
 "nbformat": 4,
 "nbformat_minor": 2
}
